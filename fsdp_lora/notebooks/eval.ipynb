{
 "cells": [
  {
   "cell_type": "code",
   "execution_count": 1,
   "metadata": {},
   "outputs": [
    {
     "name": "stderr",
     "output_type": "stream",
     "text": [
      "[nltk_data] Downloading package punkt to /home2/tathagato/nltk_data...\n",
      "[nltk_data]   Package punkt is already up-to-date!\n",
      "[nltk_data] Downloading package averaged_perceptron_tagger to\n",
      "[nltk_data]     /home2/tathagato/nltk_data...\n",
      "[nltk_data]   Package averaged_perceptron_tagger is already up-to-\n",
      "[nltk_data]       date!\n",
      "[nltk_data] Downloading package stopwords to\n",
      "[nltk_data]     /home2/tathagato/nltk_data...\n",
      "[nltk_data]   Package stopwords is already up-to-date!\n"
     ]
    }
   ],
   "source": [
    "import pickle as pkl \n",
    "import json \n",
    "#lets do eval \n",
    "import sys\n",
    "sys.path.append(\"/home2/tathagato/summarization/MACSUM/experiments/\")\n",
    "from eval import output_length_metrics, output_topic_metrics, output_extractiveness_metrics\n",
    "from pprint import pprint\n",
    "import os \n",
    "\n"
   ]
  },
  {
   "cell_type": "code",
   "execution_count": 2,
   "metadata": {},
   "outputs": [],
   "source": [
    "def load_file(filename):\n",
    "    with open(filename, 'rb') as f:\n",
    "        data = pkl.load(f)\n",
    "    return data\n",
    "\n",
    "def get_all_pickle_files(directory):\n",
    "    import os \n",
    "    files = os.listdir(directory)\n",
    "    filenames = [os.path.join(directory,f) for f in files if f.endswith('.pkl') and 'config' not in f]\n",
    "    basenames = [os.path.join(directory, f) for f in files if f.endswith('.pkl') and 'config' not in f]\n",
    "    attributes = []\n",
    "    for basename in basenames:\n",
    "        file, ext = os.path.splitext(basename)\n",
    "        attribute = file.split(\"_\")[-1]\n",
    "        attributes.append(attribute)\n",
    "    res = {file: {\"data\" : load_file(file), \"attribute\": attribute} for file, attribute in zip(filenames, attributes)}\n",
    "    return res\n",
    "\n",
    "def get_all_files(directories):\n",
    "    res = {}\n",
    "    for directory in directories:\n",
    "        res.update(get_all_pickle_files(directory))\n",
    "    return res"
   ]
  },
  {
   "cell_type": "code",
   "execution_count": 3,
   "metadata": {},
   "outputs": [
    {
     "name": "stdout",
     "output_type": "stream",
     "text": [
      "8\n"
     ]
    },
    {
     "name": "stderr",
     "output_type": "stream",
     "text": [
      "/home2/tathagato/miniconda3/envs/roy/lib/python3.9/site-packages/torch/storage.py:414: FutureWarning: You are using `torch.load` with `weights_only=False` (the current default value), which uses the default pickle module implicitly. It is possible to construct malicious pickle data which will execute arbitrary code during unpickling (See https://github.com/pytorch/pytorch/blob/main/SECURITY.md#untrusted-models for more details). In a future release, the default value for `weights_only` will be flipped to `True`. This limits the functions that could be executed during unpickling. Arbitrary objects will no longer be allowed to be loaded via this mode unless they are explicitly allowlisted by the user via `torch.serialization.add_safe_globals`. We recommend you start setting `weights_only=True` for any use case where you don't have full control of the loaded file. Please open an issue on GitHub for any issues related to this experimental feature.\n",
      "  return torch.load(io.BytesIO(b))\n"
     ]
    }
   ],
   "source": [
    "#add the pickle directory\n",
    "directories = [\n",
    "    \"/scratch/tathagato/storm_llama31_extractiveness_then_length\",\n",
    "    \"/scratch/tathagato/storm_llama31_length_then_extractiveness\"\n",
    "]\n",
    "\n",
    "data = get_all_files(directories)\n",
    "print(len(data))\n",
    "    \n"
   ]
  },
  {
   "cell_type": "code",
   "execution_count": null,
   "metadata": {},
   "outputs": [],
   "source": [
    "results = {}\n",
    "for key in data:\n",
    "    output = data[key][\"data\"]\n",
    "    attribute = data[key][\"attribute\"]\n",
    "    if attribute == \"extractiveness\":\n",
    "        result = output_extractiveness_metrics(output)\n",
    "    elif attribute == \"length\":\n",
    "        result = output_length_metrics(output)\n",
    "    else:\n",
    "        #raise not imeplemented error\n",
    "        raise NotImplementedError\n",
    "    results[key] = {\"result\": result, \"attribute\": attribute}\n",
    "\n",
    "    "
   ]
  },
  {
   "cell_type": "code",
   "execution_count": 9,
   "metadata": {},
   "outputs": [
    {
     "name": "stdout",
     "output_type": "stream",
     "text": [
      "/scratch/tathagato/storm_llama31_extractiveness_then_length/attribute_1_extractiveness_and_attribute_2_length_finetune_generated_texts_length.pkl\n",
      "/scratch/tathagato/storm_llama31_extractiveness_then_length/attribute_1_extractiveness_finetune_generated_texts_extractiveness.pkl\n",
      "/scratch/tathagato/storm_llama31_extractiveness_then_length/attribute_1_extractiveness_and_attribute_2_length_finetune_generated_texts_extractiveness.pkl\n",
      "/scratch/tathagato/storm_llama31_extractiveness_then_length/attribute_1_extractiveness_finetune_generated_texts_length.pkl\n",
      "/scratch/tathagato/storm_llama31_length_then_extractiveness/attribute_1_length_and_attribute_2_extractiveness_finetune_generated_texts_extractiveness.pkl\n",
      "/scratch/tathagato/storm_llama31_length_then_extractiveness/attribute_1_length_and_attribute_2_extractiveness_finetune_generated_texts_length.pkl\n",
      "/scratch/tathagato/storm_llama31_length_then_extractiveness/attribute_1_length_finetune_generated_texts_extractiveness.pkl\n",
      "/scratch/tathagato/storm_llama31_length_then_extractiveness/attribute_1_length_finetune_generated_texts_length.pkl\n"
     ]
    }
   ],
   "source": [
    "for key in results:\n",
    "    print(key)\n"
   ]
  },
  {
   "cell_type": "code",
   "execution_count": 10,
   "metadata": {},
   "outputs": [
    {
     "name": "stdout",
     "output_type": "stream",
     "text": [
      "{   'attribute': 'length',\n",
      "    'result': {   'long': {   'cer': 2.3698121127170495,\n",
      "                              'num_examples': 129,\n",
      "                              'prediction_compression_ratio': 0.3461670512054667,\n",
      "                              'prediction_summary_length': 190.11627906976744,\n",
      "                              'reference_compression_ratio': 0.12716978795595885,\n",
      "                              'reference_summary_length': 95.29457364341086},\n",
      "                  'normal': {   'cer': 3.4771244047501986,\n",
      "                                'num_examples': 293,\n",
      "                                'prediction_compression_ratio': 0.19961190528724476,\n",
      "                                'prediction_summary_length': 137.36860068259386,\n",
      "                                'reference_compression_ratio': 0.062131765430094694,\n",
      "                                'reference_summary_length': 47.89078498293515},\n",
      "                  'overall_cer': 2.5587731100470537,\n",
      "                  'short': {   'cer': 0.6011654245074479,\n",
      "                               'num_examples': 125,\n",
      "                               'prediction_compression_ratio': 0.043303618631192996,\n",
      "                               'prediction_summary_length': 28.832,\n",
      "                               'reference_compression_ratio': 0.04655339751862293,\n",
      "                               'reference_summary_length': 34.288}}}\n"
     ]
    }
   ],
   "source": [
    "pprint(results['/scratch/tathagato/storm_llama31_length_then_extractiveness/attribute_1_length_finetune_generated_texts_length.pkl'], indent = 4)"
   ]
  },
  {
   "cell_type": "code",
   "execution_count": 11,
   "metadata": {},
   "outputs": [
    {
     "name": "stdout",
     "output_type": "stream",
     "text": [
      "{   'attribute': 'extractiveness',\n",
      "    'result': {   'fully': {   'num_examples': 37,\n",
      "                               'prediction_coverage': 0.9723392753010187,\n",
      "                               'prediction_density': 64.76198211893731,\n",
      "                               'prediction_overlap': 0.8322678788085122,\n",
      "                               'reference_coverage': 0.9468472339634083,\n",
      "                               'reference_density': 7.64244868404282,\n",
      "                               'reference_overlap': 0.770275685359483},\n",
      "                  'high': {   'num_examples': 43,\n",
      "                              'prediction_coverage': 0.9583081875762727,\n",
      "                              'prediction_density': 20.02584351872917,\n",
      "                              'prediction_overlap': 0.7454750203652487,\n",
      "                              'reference_coverage': 0.9251531914859263,\n",
      "                              'reference_density': 5.795913412523072,\n",
      "                              'reference_overlap': 0.6154424686586898},\n",
      "                  'normal': {   'num_examples': 467,\n",
      "                                'prediction_coverage': 0.9635120443223033,\n",
      "                                'prediction_density': 26.346714363854016,\n",
      "                                'prediction_overlap': 0.7772872126614783,\n",
      "                                'reference_coverage': 0.8669595763809995,\n",
      "                                'reference_density': 3.0470808464199095,\n",
      "                                'reference_overlap': 0.4434694897237249}}}\n"
     ]
    }
   ],
   "source": [
    "pprint(results['/scratch/tathagato/storm_llama31_length_then_extractiveness/attribute_1_length_finetune_generated_texts_extractiveness.pkl'], indent = 4)"
   ]
  },
  {
   "cell_type": "code",
   "execution_count": 12,
   "metadata": {},
   "outputs": [
    {
     "name": "stdout",
     "output_type": "stream",
     "text": [
      "{   'attribute': 'length',\n",
      "    'result': {   'long': {   'cer': 2.521004869332414,\n",
      "                              'num_examples': 129,\n",
      "                              'prediction_compression_ratio': 0.3162953358906921,\n",
      "                              'prediction_summary_length': 198.8139534883721,\n",
      "                              'reference_compression_ratio': 0.12716978795595885,\n",
      "                              'reference_summary_length': 95.29457364341086},\n",
      "                  'normal': {   'cer': 2.42841091959871,\n",
      "                                'num_examples': 293,\n",
      "                                'prediction_compression_ratio': 0.12999492429502277,\n",
      "                                'prediction_summary_length': 105.34129692832765,\n",
      "                                'reference_compression_ratio': 0.062131765430094694,\n",
      "                                'reference_summary_length': 47.89078498293515},\n",
      "                  'overall_cer': 2.1037162827860696,\n",
      "                  'short': {   'cer': 0.9119902327814152,\n",
      "                               'num_examples': 125,\n",
      "                               'prediction_compression_ratio': 0.06802193172451124,\n",
      "                               'prediction_summary_length': 41.848,\n",
      "                               'reference_compression_ratio': 0.04655339751862293,\n",
      "                               'reference_summary_length': 34.288}}}\n"
     ]
    }
   ],
   "source": [
    "pprint(results['/scratch/tathagato/storm_llama31_length_then_extractiveness/attribute_1_length_and_attribute_2_extractiveness_finetune_generated_texts_length.pkl'], indent = 4)"
   ]
  },
  {
   "cell_type": "code",
   "execution_count": 13,
   "metadata": {},
   "outputs": [
    {
     "name": "stdout",
     "output_type": "stream",
     "text": [
      "{   'attribute': 'extractiveness',\n",
      "    'result': {   'fully': {   'num_examples': 37,\n",
      "                               'prediction_coverage': 0.958056918323793,\n",
      "                               'prediction_density': 20.03488045935371,\n",
      "                               'prediction_overlap': 0.7446520081709809,\n",
      "                               'reference_coverage': 0.9468472339634083,\n",
      "                               'reference_density': 7.64244868404282,\n",
      "                               'reference_overlap': 0.770275685359483},\n",
      "                  'high': {   'num_examples': 43,\n",
      "                              'prediction_coverage': 0.9616731865129131,\n",
      "                              'prediction_density': 29.251901185366293,\n",
      "                              'prediction_overlap': 0.7705100229832265,\n",
      "                              'reference_coverage': 0.9251531914859263,\n",
      "                              'reference_density': 5.795913412523072,\n",
      "                              'reference_overlap': 0.6154424686586898},\n",
      "                  'normal': {   'num_examples': 467,\n",
      "                                'prediction_coverage': 0.9522640695562281,\n",
      "                                'prediction_density': 22.940451904314866,\n",
      "                                'prediction_overlap': 0.7410150062981569,\n",
      "                                'reference_coverage': 0.8669595763809995,\n",
      "                                'reference_density': 3.0470808464199095,\n",
      "                                'reference_overlap': 0.4434694897237249}}}\n"
     ]
    }
   ],
   "source": [
    "pprint(results['/scratch/tathagato/storm_llama31_length_then_extractiveness/attribute_1_length_and_attribute_2_extractiveness_finetune_generated_texts_extractiveness.pkl'], indent = 4)"
   ]
  },
  {
   "cell_type": "code",
   "execution_count": 15,
   "metadata": {},
   "outputs": [
    {
     "name": "stdout",
     "output_type": "stream",
     "text": [
      "{   'attribute': 'length',\n",
      "    'result': {   'long': {   'cer': 0.7703578720872942,\n",
      "                              'num_examples': 129,\n",
      "                              'prediction_compression_ratio': 0.12124442913749775,\n",
      "                              'prediction_summary_length': 80.44961240310077,\n",
      "                              'reference_compression_ratio': 0.12716978795595885,\n",
      "                              'reference_summary_length': 95.29457364341086},\n",
      "                  'normal': {   'cer': 1.53759324226053,\n",
      "                                'num_examples': 293,\n",
      "                                'prediction_compression_ratio': 0.08183200847826526,\n",
      "                                'prediction_summary_length': 70.10580204778157,\n",
      "                                'reference_compression_ratio': 0.062131765430094694,\n",
      "                                'reference_summary_length': 47.89078498293515},\n",
      "                  'overall_cer': 1.1507368332982717,\n",
      "                  'short': {   'cer': 0.6364964986604679,\n",
      "                               'num_examples': 125,\n",
      "                               'prediction_compression_ratio': 0.05246527998671476,\n",
      "                               'prediction_summary_length': 34.416,\n",
      "                               'reference_compression_ratio': 0.04655339751862293,\n",
      "                               'reference_summary_length': 34.288}}}\n"
     ]
    }
   ],
   "source": [
    "pprint(results['/scratch/tathagato/storm_llama31_extractiveness_then_length/attribute_1_extractiveness_finetune_generated_texts_length.pkl'], indent = 4)"
   ]
  },
  {
   "cell_type": "code",
   "execution_count": 16,
   "metadata": {},
   "outputs": [
    {
     "name": "stdout",
     "output_type": "stream",
     "text": [
      "{   'attribute': 'extractiveness',\n",
      "    'result': {   'fully': {   'num_examples': 37,\n",
      "                               'prediction_coverage': 0.955246704360322,\n",
      "                               'prediction_density': 17.806174693221823,\n",
      "                               'prediction_overlap': 0.7537645141323599,\n",
      "                               'reference_coverage': 0.9468472339634083,\n",
      "                               'reference_density': 7.64244868404282,\n",
      "                               'reference_overlap': 0.770275685359483},\n",
      "                  'high': {   'num_examples': 43,\n",
      "                              'prediction_coverage': 0.9555856280273147,\n",
      "                              'prediction_density': 21.014174862128836,\n",
      "                              'prediction_overlap': 0.7309495543446266,\n",
      "                              'reference_coverage': 0.9251531914859263,\n",
      "                              'reference_density': 5.795913412523072,\n",
      "                              'reference_overlap': 0.6154424686586898},\n",
      "                  'normal': {   'num_examples': 467,\n",
      "                                'prediction_coverage': 0.9500441527533274,\n",
      "                                'prediction_density': 10.177430895929513,\n",
      "                                'prediction_overlap': 0.7092364302500506,\n",
      "                                'reference_coverage': 0.8669595763809995,\n",
      "                                'reference_density': 3.0470808464199095,\n",
      "                                'reference_overlap': 0.4434694897237249}}}\n"
     ]
    }
   ],
   "source": [
    "pprint(results['/scratch/tathagato/storm_llama31_extractiveness_then_length/attribute_1_extractiveness_finetune_generated_texts_extractiveness.pkl'], indent = 4)"
   ]
  },
  {
   "cell_type": "code",
   "execution_count": 18,
   "metadata": {},
   "outputs": [
    {
     "name": "stdout",
     "output_type": "stream",
     "text": [
      "{   'attribute': 'length',\n",
      "    'result': {   'long': {   'cer': 0.7095279080128601,\n",
      "                              'num_examples': 129,\n",
      "                              'prediction_compression_ratio': 0.12430568684440295,\n",
      "                              'prediction_summary_length': 77.72868217054264,\n",
      "                              'reference_compression_ratio': 0.12716978795595885,\n",
      "                              'reference_summary_length': 95.29457364341086},\n",
      "                  'normal': {   'cer': 1.4486006688763546,\n",
      "                                'num_examples': 293,\n",
      "                                'prediction_compression_ratio': 0.08737060652596317,\n",
      "                                'prediction_summary_length': 72.47098976109216,\n",
      "                                'reference_compression_ratio': 0.062131765430094694,\n",
      "                                'reference_summary_length': 47.89078498293515},\n",
      "                  'overall_cer': 1.0981259438556328,\n",
      "                  'short': {   'cer': 0.6776463613968012,\n",
      "                               'num_examples': 125,\n",
      "                               'prediction_compression_ratio': 0.060742968296941514,\n",
      "                               'prediction_summary_length': 37.888,\n",
      "                               'reference_compression_ratio': 0.04655339751862293,\n",
      "                               'reference_summary_length': 34.288}}}\n"
     ]
    }
   ],
   "source": [
    "pprint(results['/scratch/tathagato/storm_llama31_extractiveness_then_length/attribute_1_extractiveness_and_attribute_2_length_finetune_generated_texts_length.pkl'], indent = 4)"
   ]
  },
  {
   "cell_type": "code",
   "execution_count": 19,
   "metadata": {},
   "outputs": [
    {
     "name": "stdout",
     "output_type": "stream",
     "text": [
      "{   'attribute': 'extractiveness',\n",
      "    'result': {   'fully': {   'num_examples': 37,\n",
      "                               'prediction_coverage': 0.9663721404745794,\n",
      "                               'prediction_density': 19.539093209479233,\n",
      "                               'prediction_overlap': 0.7983667931137338,\n",
      "                               'reference_coverage': 0.9468472339634083,\n",
      "                               'reference_density': 7.64244868404282,\n",
      "                               'reference_overlap': 0.770275685359483},\n",
      "                  'high': {   'num_examples': 43,\n",
      "                              'prediction_coverage': 0.9583003486253017,\n",
      "                              'prediction_density': 18.31776460339296,\n",
      "                              'prediction_overlap': 0.742860250600092,\n",
      "                              'reference_coverage': 0.9251531914859263,\n",
      "                              'reference_density': 5.795913412523072,\n",
      "                              'reference_overlap': 0.6154424686586898},\n",
      "                  'normal': {   'num_examples': 467,\n",
      "                                'prediction_coverage': 0.9655178274311036,\n",
      "                                'prediction_density': 14.707025170206323,\n",
      "                                'prediction_overlap': 0.7672673099837347,\n",
      "                                'reference_coverage': 0.8669595763809995,\n",
      "                                'reference_density': 3.0470808464199095,\n",
      "                                'reference_overlap': 0.4434694897237249}}}\n"
     ]
    }
   ],
   "source": [
    "pprint(results['/scratch/tathagato/storm_llama31_extractiveness_then_length/attribute_1_extractiveness_and_attribute_2_length_finetune_generated_texts_extractiveness.pkl'], indent = 4)"
   ]
  },
  {
   "cell_type": "code",
   "execution_count": null,
   "metadata": {},
   "outputs": [],
   "source": []
  }
 ],
 "metadata": {
  "kernelspec": {
   "display_name": "roy",
   "language": "python",
   "name": "python3"
  },
  "language_info": {
   "codemirror_mode": {
    "name": "ipython",
    "version": 3
   },
   "file_extension": ".py",
   "mimetype": "text/x-python",
   "name": "python",
   "nbconvert_exporter": "python",
   "pygments_lexer": "ipython3",
   "version": "3.9.19"
  }
 },
 "nbformat": 4,
 "nbformat_minor": 2
}
