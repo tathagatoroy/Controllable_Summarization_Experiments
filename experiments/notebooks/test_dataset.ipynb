{
 "cells": [
  {
   "cell_type": "code",
   "execution_count": 23,
   "metadata": {},
   "outputs": [],
   "source": [
    "import os\n",
    "import json\n",
    "import pprint\n",
    "pprint = pprint.PrettyPrinter(indent=4).pprint\n"
   ]
  },
  {
   "cell_type": "code",
   "execution_count": 3,
   "metadata": {},
   "outputs": [],
   "source": [
    "dataset_directory = \"/home2/tathagato/summarization/MACSum/dataset/macdoc\"\n",
    "train_file = \"/home2/tathagato/summarization/MACSum/dataset/macdoc/train.json\"\n",
    "val_file = \"/home2/tathagato/summarization/MACSum/dataset/macdoc/val.json\"\n",
    "test_file = \"/home2/tathagato/summarization/MACSum/dataset/macdoc/test.json\"\n",
    "train_data = json.load(open(train_file,\"rb\"))\n",
    "val_data = json.load(open(val_file,\"rb\"))\n",
    "test_data = json.load(open(test_file,\"rb\"))\n"
   ]
  },
  {
   "cell_type": "markdown",
   "metadata": {},
   "source": [
    "## dataset structure \n",
    "    json is a list \n",
    "    each item has a source text which is divided by sentences/turns : item['source']\n",
    "    for each source there are n references/controllable aspects : item['references] = {controllable_aspect : {}, summary : str}\n",
    "    \n"
   ]
  },
  {
   "cell_type": "code",
   "execution_count": 5,
   "metadata": {},
   "outputs": [
    {
     "name": "stdout",
     "output_type": "stream",
     "text": [
      "62\n",
      "61\n",
      "63\n"
     ]
    }
   ],
   "source": [
    "print(len(test_file))\n",
    "print(len(val_file))\n",
    "print(len(train_file))\n"
   ]
  },
  {
   "cell_type": "code",
   "execution_count": 14,
   "metadata": {},
   "outputs": [
    {
     "name": "stdout",
     "output_type": "stream",
     "text": [
      "4278 for train\n",
      "554 for val\n",
      "547 for test\n"
     ]
    }
   ],
   "source": [
    "total_examples = 0\n",
    "for sourced_example in train_data:\n",
    "    num_references = len(sourced_example['references'])\n",
    "    total_examples += num_references\n",
    "print(f\"{total_examples} for train\")\n",
    "\n",
    "total_examples = 0\n",
    "for sourced_example in val_data:\n",
    "    num_references = len(sourced_example['references'])\n",
    "    total_examples += num_references\n",
    "print(f\"{total_examples} for val\")\n",
    "\n",
    "total_examples = 0\n",
    "for sourced_example in test_data:\n",
    "    num_references = len(sourced_example['references'])\n",
    "    total_examples += num_references\n",
    "print(f\"{total_examples} for test\")\n"
   ]
  },
  {
   "cell_type": "code",
   "execution_count": 20,
   "metadata": {},
   "outputs": [],
   "source": [
    "def generate_all_pairs(dataset : list) -> dict:\n",
    "    all_pairs = {}\n",
    "    index = 0\n",
    "    for source_example in dataset:\n",
    "        source_text = get_source_from_sentences(source_example['source'])\n",
    "        for reference in source_example['references']:\n",
    "            example = {\"source\" : source_text, \"reference\" : reference['summary'] , \"control_attribute\" : reference['control_attribute']}\n",
    "            all_pairs[index] = example\n",
    "            index += 1\n",
    "    return all_pairs\n",
    "\n",
    "def get_source_from_sentences(source : list) -> str:\n",
    "    return \" \".join(source)\n"
   ]
  },
  {
   "cell_type": "markdown",
   "metadata": {},
   "source": [
    "## formatted dataset structure \n",
    "    dataset is a dict \n",
    "    all the item (indexed by integers) are source/summary/controllable aspect pair item : dataset[index] :  {\"source\" : str, \"reference\" : str, \"control_attribute\" : {}}\n",
    "    "
   ]
  },
  {
   "cell_type": "code",
   "execution_count": 26,
   "metadata": {},
   "outputs": [],
   "source": [
    "train_dataset = generate_all_pairs(train_data)\n",
    "val_dataset = generate_all_pairs(val_data)\n",
    "test_dataset = generate_all_pairs(test_data)\n",
    "\n",
    "train_dataset_path = \"/home2/tathagato/summarization/MACSum/dataset/macdoc/train_dataset.json\"\n",
    "val_dataset_path = \"/home2/tathagato/summarization/MACSum/dataset/macdoc/val_dataset.json\"\n",
    "test_dataset_path = \"/home2/tathagato/summarization/MACSum/dataset/macdoc/test_dataset.json\"\n",
    "\n",
    "with open(train_dataset_path, 'w') as f:\n",
    "    json.dump(train_dataset, f)\n",
    "with open(val_dataset_path, 'w') as f:\n",
    "    json.dump(val_dataset, f)\n",
    "with open(test_dataset_path, 'w') as f:\n",
    "    json.dump(test_dataset, f)\n",
    "    \n"
   ]
  },
  {
   "cell_type": "code",
   "execution_count": null,
   "metadata": {},
   "outputs": [],
   "source": []
  }
 ],
 "metadata": {
  "kernelspec": {
   "display_name": "habitat",
   "language": "python",
   "name": "python3"
  },
  "language_info": {
   "codemirror_mode": {
    "name": "ipython",
    "version": 3
   },
   "file_extension": ".py",
   "mimetype": "text/x-python",
   "name": "python",
   "nbconvert_exporter": "python",
   "pygments_lexer": "ipython3",
   "version": "3.7.13"
  }
 },
 "nbformat": 4,
 "nbformat_minor": 2
}
