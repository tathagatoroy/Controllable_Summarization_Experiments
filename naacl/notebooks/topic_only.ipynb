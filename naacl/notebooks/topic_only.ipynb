{
 "cells": [
  {
   "cell_type": "code",
   "execution_count": 1,
   "metadata": {},
   "outputs": [
    {
     "name": "stderr",
     "output_type": "stream",
     "text": [
      "[nltk_data] Downloading package punkt to /home2/tathagato/nltk_data...\n",
      "[nltk_data]   Package punkt is already up-to-date!\n",
      "[nltk_data] Downloading package averaged_perceptron_tagger to\n",
      "[nltk_data]     /home2/tathagato/nltk_data...\n",
      "[nltk_data]   Package averaged_perceptron_tagger is already up-to-\n",
      "[nltk_data]       date!\n",
      "[nltk_data] Downloading package stopwords to\n",
      "[nltk_data]     /home2/tathagato/nltk_data...\n",
      "[nltk_data]   Package stopwords is already up-to-date!\n"
     ]
    }
   ],
   "source": [
    "import sys\n",
    "sys.path.insert(0,\"/home2/tathagato/summarization/MACSUM/naacl\")\n",
    "import os\n",
    "from eval import evaluate\n",
    "import pickle as pkl"
   ]
  },
  {
   "cell_type": "code",
   "execution_count": 3,
   "metadata": {},
   "outputs": [
    {
     "name": "stdout",
     "output_type": "stream",
     "text": [
      "37\n"
     ]
    }
   ],
   "source": [
    "all_result_paths = [\n",
    "    \"/scratch/tathagato/openai_outputs/all_results.pkl\",\n",
    "    \"/scratch/tathagato/openai_outputs/all_results_rest.pkl\"\n",
    "]\n",
    "# read the two pickle files and merge them and save as final_results.pkl\n",
    "final_results = {}\n",
    "for result_path in all_result_paths:\n",
    "    with open(result_path, \"rb\") as f:\n",
    "        results = pkl.load(f)\n",
    "        final_results.update(results)\n",
    "with open(\"/scratch/tathagato/openai_outputs/final_results.pkl\", \"wb\") as f:\n",
    "    pkl.dump(final_results, f)\n",
    "print(len(final_results))"
   ]
  },
  {
   "cell_type": "code",
   "execution_count": 4,
   "metadata": {},
   "outputs": [
    {
     "name": "stdout",
     "output_type": "stream",
     "text": [
      "dict_keys(['/scratch/tathagato/naacl/multi_attribute_single_adapter_continued_sft/mistral_extractiveness_then_topic/model_extractiveness_and_topic_results_extractiveness_and_topic.pkl', '/scratch/tathagato/naacl/joint_mult_attribute_dpo/mistral_length_and_topic/model_length_and_topic_results_length_and_topic.pkl', '/scratch/tathagato/naacl/single_attribute_dpo/mistral_topic/results.pkl', '/scratch/tathagato/naacl/zero_shot/mistral_length_and_topic.pkl', '/scratch/tathagato/naacl/joint_mult_attribute_sft/mistral_length_and_topic/model_length_and_topic_results_length_and_topic.pkl', '/scratch/tathagato/naacl/joint_mult_attribute_dpo/mistral_extractiveness_and_topic/model_extractiveness_and_topic_results_extractiveness_and_topic.pkl', '/scratch/tathagato/naacl/zero_shot/mistral_topic_and_extractiveness.pkl', '/scratch/tathagato/naacl/zero_shot/mistral_topic.pkl', '/scratch/tathagato/naacl/joint_mult_attribute_sft/mistral_extractiveness_and_topic/model_extractiveness_and_topic_results_extractiveness_and_topic.pkl', '/scratch/tathagato/naacl/single_attribute_sft/mistral_topic/results.pkl', '/scratch/tathagato/naacl/adapter_fusion_dpo/mistral_extractiveness_and_topic_0.5_0.5_0.5_linear/model_extractiveness_and_topic_fused_results_extractiveness_and_topic.pkl', '/scratch/tathagato/naacl/multi_attribute_multi_adapter_sft/mistral_topic_then_extractiveness/model_topic_then_extractiveness_results_topic_and_extractiveness.pkl', '/scratch/tathagato/naacl/multi_attribute_single_adapter_continued_sft/mistral_topic_then_length/model_topic_and_length_results_topic_and_length.pkl', '/scratch/tathagato/naacl/adapter_fusion_sft/mistral_length_and_topic_0.67_0.67_0.33_linear/model_length_and_topic_fused_results_length_and_topic.pkl', '/scratch/tathagato/naacl/multi_attribute_single_adapter_continued_dpo/mistral_extractiveness_then_topic/model_extractiveness_and_topic_results_extractiveness_and_topic.pkl', '/scratch/tathagato/naacl/multi_attribute_single_adapter_continued_sft/mistral_length_then_topic/model_length_and_topic_results_length_and_topic.pkl', '/scratch/tathagato/naacl/multi_attribute_single_adapter_continued_dpo/mistral_length_then_topic/model_length_and_topic_results_length_and_topic.pkl', '/scratch/tathagato/naacl/adapter_fusion_sft/mistral_extractiveness_and_topic_0.5_0.5_0.5_linear/model_extractiveness_and_topic_fused_results_extractiveness_and_topic.pkl', '/scratch/tathagato/naacl/adapter_fusion_dpo/mistral_length_and_topic_0.67_0.67_0.33_linear/model_length_and_topic_fused_results_length_and_topic.pkl', '/scratch/tathagato/naacl/multi_attribute_multi_adapter_dpo/mistral_length_then_topic/model_length_and_topic_results_length_and_topic.pkl', '/scratch/tathagato/naacl/multi_attribute_single_adapter_continued_sft/mistral_topic_then_extractiveness/model_topic_and_extractiveness_results_topic_and_extractiveness.pkl', '/scratch/tathagato/naacl/adapter_fusion_sft/mistral_length_and_topic_0.33_0.33_0.67_linear/model_length_and_topic_fused_results_length_and_topic.pkl', '/scratch/tathagato/naacl/adapter_fusion_dpo/mistral_extractiveness_and_topic_0.33_0.33_0.67_linear/model_extractiveness_and_topic_fused_results_extractiveness_and_topic.pkl', '/scratch/tathagato/naacl/multi_attribute_single_adapter_continued_dpo/mistral_topic_then_extractiveness/model_topic_and_extractiveness_results_topic_and_extractiveness.pkl', '/scratch/tathagato/naacl/adapter_fusion_sft/mistral_extractiveness_and_topic_0.33_0.33_0.67_linear/model_extractiveness_and_topic_fused_results_extractiveness_and_topic.pkl', '/scratch/tathagato/naacl/multi_attribute_single_adapter_continued_dpo/mistral_topic_then_length/model_topic_and_length_results_topic_and_length.pkl', '/scratch/tathagato/naacl/multi_attribute_multi_adapter_dpo/mistral_topic_then_length/model_topic_and_length_results_topic_and_length.pkl', '/scratch/tathagato/naacl/multi_attribute_multi_adapter_dpo/mistral_extractiveness_then_topic/model_extractiveness_and_topic_results_extractiveness_and_topic.pkl', '/scratch/tathagato/naacl/adapter_fusion_sft/mistral_length_and_topic_0.5_0.5_0.5_linear/model_length_and_topic_fused_results_length_and_topic.pkl', '/scratch/tathagato/naacl/multi_attribute_multi_adapter_sft/mistral_extractiveness_then_topic/model_extractiveness_then_topic_results_extractiveness_and_topic.pkl', '/scratch/tathagato/naacl/multi_attribute_multi_adapter_dpo/mistral_topic_then_extractiveness/model_topic_and_extractiveness_results_topic_and_extractiveness.pkl', '/scratch/tathagato/naacl/adapter_fusion_dpo/mistral_extractiveness_and_topic_0.67_0.67_0.33_linear/model_extractiveness_and_topic_fused_results_extractiveness_and_topic.pkl', '/scratch/tathagato/naacl/adapter_fusion_dpo/mistral_length_and_topic_0.33_0.33_0.67_linear/model_length_and_topic_fused_results_length_and_topic.pkl', '/scratch/tathagato/naacl/adapter_fusion_dpo/mistral_length_and_topic_0.5_0.5_0.5_linear/model_length_and_topic_fused_results_length_and_topic.pkl', '/scratch/tathagato/naacl/adapter_fusion_sft/mistral_extractiveness_and_topic_0.67_0.67_0.33_linear/model_extractiveness_and_topic_fused_results_extractiveness_and_topic.pkl', '/scratch/tathagato/naacl/multi_attribute_multi_adapter_sft/mistral_length_then_topic/model_length_then_topic_results_length_and_topic.pkl', '/scratch/tathagato/naacl/multi_attribute_multi_adapter_sft/mistral_topic_then_length/model_topic_then_length_results_topic_and_length.pkl'])\n"
     ]
    }
   ],
   "source": [
    "print(final_results.keys())"
   ]
  },
  {
   "cell_type": "code",
   "execution_count": 5,
   "metadata": {},
   "outputs": [],
   "source": [
    "attributes = ['topic']\n",
    "arguments = [\n",
    "    [\"/scratch/tathagato/naacl/zero_shot/llama_topic.pkl\", \"llama\"],\n",
    "    [\"/scratch/tathagato/naacl/zero_shot/mistral_topic.pkl\", \"mistral\"],\n",
    "    [\"/scratch/tathagato/naacl/single_attribute_sft/llama_topic/results.pkl\", \"llama\"],\n",
    "    [\"/scratch/tathagato/naacl/single_attribute_sft/mistral_topic/results.pkl\", \"mistral\"],\n",
    "    [\"/scratch/tathagato/naacl/single_attribute_dpo/llama_topic/results.pkl\", \"llama\"],\n",
    "    [\"/scratch/tathagato/naacl/single_attribute_dpo/mistral_topic/results.pkl\", \"mistral\"]\n",
    "\n",
    "\n",
    "]\n",
    "\n",
    "def extract_floats(string):\n",
    "    # This pattern matches numbers with optional negative sign,\n",
    "    # decimal point, and exponent notation\n",
    "    pattern = r'-?\\d+(?:\\.\\d+)?(?:[eE][-+]?\\d+)?'\n",
    "    \n",
    "    # Find all matches in the string\n",
    "    matches = re.findall(pattern, string)\n",
    "    \n",
    "    # Convert matches to float\n",
    "    floats = [float(match) for match in matches]\n",
    "    \n",
    "    return floats\n",
    "def extract_words_around_then(filepath):\n",
    "    # Check if \"then\" is in the filepath\n",
    "    if \"then\" not in filepath:\n",
    "        return \"\"\n",
    "    \n",
    "    # Regular expression to match the pattern\n",
    "    pattern = r'_([^_]+)_then_([^_]+)_'\n",
    "    \n",
    "    # Search for the pattern in the filepath\n",
    "    match = re.search(pattern, filepath)\n",
    "    \n",
    "    if match:\n",
    "        # Extract the words before and after \"then\"\n",
    "        word_before = match.group(1)\n",
    "        word_after = match.group(2)\n",
    "        return f\"{word_before[0]}->{word_after[0]}\"\n",
    "\n",
    "def extract_meta_information(path):\n",
    "    config = \"\"\n",
    "    model = \"Llama-3.1-Storm-8B\"\n",
    "    if \"mistral\" in path:\n",
    "        model = \"Mistral-7b-v3\"\n",
    "    method = \"not sure\"\n",
    "    if \"zero_shot\" in path:\n",
    "        method = \"zero shot\"\n",
    "\n",
    "    if \"adapter_fusion\" in path:\n",
    "        method = \"adapter fusion\"\n",
    "        w1, w2 = extract_floats(path)[1], extract_floats(path)[2]\n",
    "        config = f\"{w1}, {w2}\"\n",
    "\n",
    "    elif \"joint_mult_attribute\" in path:\n",
    "        method = \"joint training\"\n",
    "    elif \"multi_attribute_single_adapter_continued\" in path:\n",
    "        method = \"single adapter continous\"\n",
    "        config = extract_words_around_then(path)\n",
    "    elif \"multi_attribute_multi_adapter\" in path:\n",
    "        method = \"multi adapter\"\n",
    "        config = extract_words_around_then(path)\n",
    "    \n",
    "    objective = \"\"\n",
    "    if \"sft\" in path:\n",
    "        objective = \"SFT\"\n",
    "    elif \"dpo\" in path:\n",
    "        objective = \"DPO\"\n",
    "    return model, method, objective, config\n",
    "\n"
   ]
  },
  {
   "cell_type": "code",
   "execution_count": 10,
   "metadata": {},
   "outputs": [
    {
     "name": "stdout",
     "output_type": "stream",
     "text": [
      "/scratch/tathagato/naacl/zero_shot/llama_topic.pkl llama\n",
      "evaluating llama with attributes ['topic']\n",
      "length of data is  266\n",
      "/scratch/tathagato/naacl/zero_shot/llama_topic.pkl is being evaluated on topic\n"
     ]
    },
    {
     "name": "stderr",
     "output_type": "stream",
     "text": [
      "/home2/tathagato/miniconda3/envs/roy/lib/python3.9/site-packages/torch/storage.py:414: FutureWarning: You are using `torch.load` with `weights_only=False` (the current default value), which uses the default pickle module implicitly. It is possible to construct malicious pickle data which will execute arbitrary code during unpickling (See https://github.com/pytorch/pytorch/blob/main/SECURITY.md#untrusted-models for more details). In a future release, the default value for `weights_only` will be flipped to `True`. This limits the functions that could be executed during unpickling. Arbitrary objects will no longer be allowed to be loaded via this mode unless they are explicitly allowlisted by the user via `torch.serialization.add_safe_globals`. We recommend you start setting `weights_only=True` for any use case where you don't have full control of the loaded file. Please open an issue on GitHub for any issues related to this experimental feature.\n",
      "  return torch.load(io.BytesIO(b))\n"
     ]
    },
    {
     "name": "stdout",
     "output_type": "stream",
     "text": [
      "--------------overall----------------\n",
      "rouge1 : 0.297424114374473\n",
      "rouge2 : 0.09756386448695305\n",
      "rouge3 : 0.041503094260232735\n",
      "rougeL : 0.19780125375875435\n",
      "number : 266\n",
      "-------------------------------------------------\n",
      "{'topic': None}\n",
      "/scratch/tathagato/naacl/zero_shot/mistral_topic.pkl mistral\n",
      "evaluating mistral with attributes ['topic']\n",
      "length of data is  266\n",
      "/scratch/tathagato/naacl/zero_shot/mistral_topic.pkl is being evaluated on topic\n",
      "--------------overall----------------\n",
      "rouge1 : 0.16429442494439167\n",
      "rouge2 : 0.058629450545901546\n",
      "rouge3 : 0.027004938168936524\n",
      "rougeL : 0.11200006088617187\n",
      "number : 266\n",
      "-------------------------------------------------\n",
      "{'topic': None}\n",
      "/scratch/tathagato/naacl/single_attribute_sft/llama_topic/results.pkl llama\n",
      "evaluating llama with attributes ['topic']\n",
      "length of data is  266\n",
      "/scratch/tathagato/naacl/single_attribute_sft/llama_topic/results.pkl is being evaluated on topic\n",
      "--------------overall----------------\n",
      "rouge1 : 0.283551122023257\n",
      "rouge2 : 0.09422355412377852\n",
      "rouge3 : 0.04247932438602692\n",
      "rougeL : 0.19088838990584622\n",
      "number : 266\n",
      "-------------------------------------------------\n",
      "{'topic': None}\n",
      "/scratch/tathagato/naacl/single_attribute_sft/mistral_topic/results.pkl mistral\n",
      "evaluating mistral with attributes ['topic']\n",
      "length of data is  266\n",
      "/scratch/tathagato/naacl/single_attribute_sft/mistral_topic/results.pkl is being evaluated on topic\n",
      "--------------overall----------------\n",
      "rouge1 : 0.22202451611092697\n",
      "rouge2 : 0.06285636281568749\n",
      "rouge3 : 0.024769931863402414\n",
      "rougeL : 0.1496779019138078\n",
      "number : 266\n",
      "-------------------------------------------------\n",
      "{'topic': None}\n",
      "/scratch/tathagato/naacl/single_attribute_dpo/llama_topic/results.pkl llama\n",
      "evaluating llama with attributes ['topic']\n",
      "length of data is  266\n",
      "/scratch/tathagato/naacl/single_attribute_dpo/llama_topic/results.pkl is being evaluated on topic\n",
      "--------------overall----------------\n",
      "rouge1 : 0.30854306037035145\n",
      "rouge2 : 0.10108501463917076\n",
      "rouge3 : 0.04199020710939928\n",
      "rougeL : 0.20380680456037584\n",
      "number : 266\n",
      "-------------------------------------------------\n",
      "{'topic': None}\n",
      "/scratch/tathagato/naacl/single_attribute_dpo/mistral_topic/results.pkl mistral\n",
      "evaluating mistral with attributes ['topic']\n",
      "length of data is  266\n",
      "/scratch/tathagato/naacl/single_attribute_dpo/mistral_topic/results.pkl is being evaluated on topic\n",
      "--------------overall----------------\n",
      "rouge1 : 0.22329112699484524\n",
      "rouge2 : 0.07572897870542683\n",
      "rouge3 : 0.033753781191110374\n",
      "rougeL : 0.14779363458753128\n",
      "number : 266\n",
      "-------------------------------------------------\n",
      "{'topic': None}\n"
     ]
    }
   ],
   "source": [
    "final_res = {}\n",
    "for file, model in arguments:\n",
    "    print(file, model)\n",
    "    try:\n",
    "        res = evaluate(file, model=model, attributes=attributes)\n",
    "        print(res)\n",
    "        final_res[file] = {\"result\": res, \"model\": model}\n",
    "    except Exception as e:\n",
    "        print(f\"Error evaluating {file}: {e}\")\n",
    "        res = None\n",
    "    \n"
   ]
  },
  {
   "cell_type": "code",
   "execution_count": 9,
   "metadata": {},
   "outputs": [
    {
     "name": "stdout",
     "output_type": "stream",
     "text": [
      "{'result': {'topic': None}, 'model': 'llama'}\n",
      "{'result': {'topic': None}, 'model': 'mistral'}\n",
      "{'result': {'topic': None}, 'model': 'llama'}\n",
      "{'result': {'topic': None}, 'model': 'mistral'}\n",
      "{'result': {'topic': None}, 'model': 'llama'}\n",
      "{'result': {'topic': None}, 'model': 'mistral'}\n"
     ]
    }
   ],
   "source": [
    "for key in final_res:\n",
    "    print(final_res[key])"
   ]
  },
  {
   "cell_type": "code",
   "execution_count": 7,
   "metadata": {},
   "outputs": [
    {
     "name": "stdout",
     "output_type": "stream",
     "text": [
      "/scratch/tathagato/naacl/zero_shot/llama_topic.pkl\n",
      "llama\n"
     ]
    },
    {
     "ename": "NameError",
     "evalue": "name 'display_length' is not defined",
     "output_type": "error",
     "traceback": [
      "\u001b[0;31m---------------------------------------------------------------------------\u001b[0m",
      "\u001b[0;31mNameError\u001b[0m                                 Traceback (most recent call last)",
      "Cell \u001b[0;32mIn[7], line 5\u001b[0m\n\u001b[1;32m      3\u001b[0m model \u001b[38;5;241m=\u001b[39m final_res[file][\u001b[38;5;124m\"\u001b[39m\u001b[38;5;124mmodel\u001b[39m\u001b[38;5;124m\"\u001b[39m]\n\u001b[1;32m      4\u001b[0m \u001b[38;5;28mprint\u001b[39m(model)\n\u001b[0;32m----> 5\u001b[0m \u001b[43mdisplay_length\u001b[49m(final_res[file][\u001b[38;5;124m\"\u001b[39m\u001b[38;5;124mresult\u001b[39m\u001b[38;5;124m\"\u001b[39m])\n\u001b[1;32m      6\u001b[0m \u001b[38;5;28mprint\u001b[39m(\u001b[38;5;124m\"\u001b[39m\u001b[38;5;124m\"\u001b[39m)\n\u001b[1;32m      7\u001b[0m \u001b[38;5;28mprint\u001b[39m(\u001b[38;5;124m\"\u001b[39m\u001b[38;5;124m----------------------------------------------\u001b[39m\u001b[38;5;124m\"\u001b[39m)\n",
      "\u001b[0;31mNameError\u001b[0m: name 'display_length' is not defined"
     ]
    }
   ],
   "source": [
    "for file in final_res:\n",
    "    print(file)\n",
    "    model = final_res[file][\"model\"]\n",
    "    print(model)\n",
    "    display_length(final_res[file][\"result\"])\n",
    "    print(\"\")\n",
    "    print(\"----------------------------------------------\")"
   ]
  },
  {
   "cell_type": "code",
   "execution_count": null,
   "metadata": {},
   "outputs": [],
   "source": []
  }
 ],
 "metadata": {
  "kernelspec": {
   "display_name": "roy",
   "language": "python",
   "name": "python3"
  },
  "language_info": {
   "codemirror_mode": {
    "name": "ipython",
    "version": 3
   },
   "file_extension": ".py",
   "mimetype": "text/x-python",
   "name": "python",
   "nbconvert_exporter": "python",
   "pygments_lexer": "ipython3",
   "version": "3.9.19"
  }
 },
 "nbformat": 4,
 "nbformat_minor": 2
}
